{
 "cells": [
  {
   "cell_type": "code",
   "execution_count": 1,
   "id": "4a089b9c",
   "metadata": {},
   "outputs": [],
   "source": [
    "#Inicialmente foi importado o pacote que será utilizado ao longo do programa.\n",
    "\n",
    "import pandas as pd\n",
    "import statsmodels.api as sm\n",
    "import numpy as np\n",
    "import matplotlib.pyplot as plt"
   ]
  },
  {
   "cell_type": "code",
   "execution_count": 2,
   "id": "94d4b3b2",
   "metadata": {
    "scrolled": true
   },
   "outputs": [],
   "source": [
    "#Em seguida, é importada a planilha com as informações referentes aos jogos do campeonato brasileiro (2021 e 2022)\n",
    "\n",
    "partidas22 = pd.read_excel('e:/Desktop/Python/ECaso2/jogos_br.xlsx')\n"
   ]
  },
  {
   "cell_type": "markdown",
   "id": "760ae2d5",
   "metadata": {},
   "source": [
    "A base de dados com as informacoes dos jogos foi extraida do site API-Football e salva em uma planilha excel.\n",
    "\n",
    "A seguir, são realizados os comandos para importacao da planilha para este notebook, e tambem, são feitos alguns tratamentos nos campos da base a fim de facilitar a sua manipulação, que são eles:\n",
    "\n",
    "- Foi criado um campo com o resultado da partida para o time da casa e o visitante, isto e, se venceram ou perderam. A base ja possuia um campo informando o resultado, porem os valores estavam apenas como falso ou verdadeiro, e ao ser importado para o notebook vem com os valores 0 ou 1, com isso, eles foram substituidos pelas letras D(Derrota) e V(Vitoria), com o objetivo de facilitar a visualizacao, alem de incluir a letra E para empate, pois nesta condicao o campo de resultado ficava em branco.\n",
    "\n",
    "- Por fim, foram excluidas as colunas casa_vence e fora_vence devido aos tratamentos realizados conforme o item anterior.\n"
   ]
  },
  {
   "cell_type": "code",
   "execution_count": 3,
   "id": "51aef7bc",
   "metadata": {},
   "outputs": [],
   "source": [
    "partidas22['result_casa']= partidas22.casa_vence.replace({0.0:'D',1.0:'V'}).fillna('E')\n",
    "partidas22['result_visit']= partidas22.visitante_vence.replace({0.0:'D',1.0:'V'}).fillna('E')\n",
    "partidas22.drop(columns=['casa_vence','visitante_vence'], inplace = True)"
   ]
  },
  {
   "cell_type": "code",
   "execution_count": 4,
   "id": "3eda6716",
   "metadata": {},
   "outputs": [
    {
     "data": {
      "text/html": [
       "<div>\n",
       "<style scoped>\n",
       "    .dataframe tbody tr th:only-of-type {\n",
       "        vertical-align: middle;\n",
       "    }\n",
       "\n",
       "    .dataframe tbody tr th {\n",
       "        vertical-align: top;\n",
       "    }\n",
       "\n",
       "    .dataframe thead th {\n",
       "        text-align: right;\n",
       "    }\n",
       "</style>\n",
       "<table border=\"1\" class=\"dataframe\">\n",
       "  <thead>\n",
       "    <tr style=\"text-align: right;\">\n",
       "      <th></th>\n",
       "      <th>partida_id</th>\n",
       "      <th>status</th>\n",
       "      <th>id_liga</th>\n",
       "      <th>liga_nome</th>\n",
       "      <th>liga_pais</th>\n",
       "      <th>temporada</th>\n",
       "      <th>rodada</th>\n",
       "      <th>casa_id</th>\n",
       "      <th>casa_nome</th>\n",
       "      <th>visitante_id</th>\n",
       "      <th>visitante_nome</th>\n",
       "      <th>gols_casa</th>\n",
       "      <th>gols_visitante</th>\n",
       "      <th>dif</th>\n",
       "      <th>result_casa</th>\n",
       "      <th>result_visit</th>\n",
       "      <th>dif_gols</th>\n",
       "      <th>total_gols</th>\n",
       "    </tr>\n",
       "  </thead>\n",
       "  <tbody>\n",
       "    <tr>\n",
       "      <th>0</th>\n",
       "      <td>837991</td>\n",
       "      <td>Match Finished</td>\n",
       "      <td>71</td>\n",
       "      <td>Serie A</td>\n",
       "      <td>Brazil</td>\n",
       "      <td>2022</td>\n",
       "      <td>Regular Season - 1</td>\n",
       "      <td>1062</td>\n",
       "      <td>Atletico-MG</td>\n",
       "      <td>119</td>\n",
       "      <td>Internacional</td>\n",
       "      <td>2</td>\n",
       "      <td>0</td>\n",
       "      <td>2</td>\n",
       "      <td>V</td>\n",
       "      <td>D</td>\n",
       "      <td>2</td>\n",
       "      <td>2</td>\n",
       "    </tr>\n",
       "    <tr>\n",
       "      <th>1</th>\n",
       "      <td>837992</td>\n",
       "      <td>Match Finished</td>\n",
       "      <td>71</td>\n",
       "      <td>Serie A</td>\n",
       "      <td>Brazil</td>\n",
       "      <td>2022</td>\n",
       "      <td>Regular Season - 1</td>\n",
       "      <td>124</td>\n",
       "      <td>Fluminense</td>\n",
       "      <td>128</td>\n",
       "      <td>Santos</td>\n",
       "      <td>0</td>\n",
       "      <td>0</td>\n",
       "      <td>0</td>\n",
       "      <td>E</td>\n",
       "      <td>E</td>\n",
       "      <td>0</td>\n",
       "      <td>0</td>\n",
       "    </tr>\n",
       "    <tr>\n",
       "      <th>2</th>\n",
       "      <td>837993</td>\n",
       "      <td>Match Finished</td>\n",
       "      <td>71</td>\n",
       "      <td>Serie A</td>\n",
       "      <td>Brazil</td>\n",
       "      <td>2022</td>\n",
       "      <td>Regular Season - 1</td>\n",
       "      <td>126</td>\n",
       "      <td>Sao Paulo</td>\n",
       "      <td>134</td>\n",
       "      <td>Atletico Paranaense</td>\n",
       "      <td>4</td>\n",
       "      <td>0</td>\n",
       "      <td>4</td>\n",
       "      <td>V</td>\n",
       "      <td>D</td>\n",
       "      <td>4</td>\n",
       "      <td>4</td>\n",
       "    </tr>\n",
       "    <tr>\n",
       "      <th>3</th>\n",
       "      <td>837994</td>\n",
       "      <td>Match Finished</td>\n",
       "      <td>71</td>\n",
       "      <td>Serie A</td>\n",
       "      <td>Brazil</td>\n",
       "      <td>2022</td>\n",
       "      <td>Regular Season - 1</td>\n",
       "      <td>121</td>\n",
       "      <td>Palmeiras</td>\n",
       "      <td>129</td>\n",
       "      <td>Ceara</td>\n",
       "      <td>2</td>\n",
       "      <td>3</td>\n",
       "      <td>-1</td>\n",
       "      <td>D</td>\n",
       "      <td>V</td>\n",
       "      <td>1</td>\n",
       "      <td>5</td>\n",
       "    </tr>\n",
       "    <tr>\n",
       "      <th>4</th>\n",
       "      <td>837995</td>\n",
       "      <td>Match Finished</td>\n",
       "      <td>71</td>\n",
       "      <td>Serie A</td>\n",
       "      <td>Brazil</td>\n",
       "      <td>2022</td>\n",
       "      <td>Regular Season - 1</td>\n",
       "      <td>120</td>\n",
       "      <td>Botafogo</td>\n",
       "      <td>131</td>\n",
       "      <td>Corinthians</td>\n",
       "      <td>1</td>\n",
       "      <td>3</td>\n",
       "      <td>-2</td>\n",
       "      <td>D</td>\n",
       "      <td>V</td>\n",
       "      <td>2</td>\n",
       "      <td>4</td>\n",
       "    </tr>\n",
       "  </tbody>\n",
       "</table>\n",
       "</div>"
      ],
      "text/plain": [
       "   partida_id          status  id_liga liga_nome liga_pais  temporada  \\\n",
       "0      837991  Match Finished       71   Serie A    Brazil       2022   \n",
       "1      837992  Match Finished       71   Serie A    Brazil       2022   \n",
       "2      837993  Match Finished       71   Serie A    Brazil       2022   \n",
       "3      837994  Match Finished       71   Serie A    Brazil       2022   \n",
       "4      837995  Match Finished       71   Serie A    Brazil       2022   \n",
       "\n",
       "               rodada  casa_id    casa_nome  visitante_id  \\\n",
       "0  Regular Season - 1     1062  Atletico-MG           119   \n",
       "1  Regular Season - 1      124   Fluminense           128   \n",
       "2  Regular Season - 1      126    Sao Paulo           134   \n",
       "3  Regular Season - 1      121    Palmeiras           129   \n",
       "4  Regular Season - 1      120     Botafogo           131   \n",
       "\n",
       "        visitante_nome  gols_casa  gols_visitante  dif result_casa  \\\n",
       "0        Internacional          2               0    2           V   \n",
       "1               Santos          0               0    0           E   \n",
       "2  Atletico Paranaense          4               0    4           V   \n",
       "3                Ceara          2               3   -1           D   \n",
       "4          Corinthians          1               3   -2           D   \n",
       "\n",
       "  result_visit  dif_gols  total_gols  \n",
       "0            D         2           2  \n",
       "1            E         0           0  \n",
       "2            D         4           4  \n",
       "3            V         1           5  \n",
       "4            V         2           4  "
      ]
     },
     "execution_count": 4,
     "metadata": {},
     "output_type": "execute_result"
    }
   ],
   "source": [
    "#Agora com os devidos tratamentos, podemos seguir com os respectivos cálculos para proseguimento da análise.\n",
    "#Logo, são calculados o total de gols de cada partida bem como a diferença de gols por partida.\n",
    "\n",
    "partidas22['dif_gols'] = abs(partidas22['gols_casa']-partidas22['gols_visitante'])\n",
    "partidas22['total_gols'] = partidas22['gols_casa']+partidas22['gols_visitante']\n",
    "partidas22.head()"
   ]
  },
  {
   "cell_type": "code",
   "execution_count": 5,
   "id": "dccba74d",
   "metadata": {},
   "outputs": [],
   "source": [
    "#Agora será feito o levatamento da quantidade de partidas cada categoria de diferença de gols teve ao longo do campeonato\n",
    "\n",
    "dif_gols22 = partidas22.groupby('dif_gols')['partida_id'].count().sort_values(ascending = False)\n",
    "\n",
    "\n",
    "#Aqui, o levantamento anterior será convertido em DataFrame para criação do gráfico com os respectivos valores\n",
    "\n",
    "Diferencas22 = pd.DataFrame(dif_gols22)\n",
    "\n",
    "#Conversão das colunas de índice dos DataFrames em listas, pois assim conseguimos atribuir adequadamente estes valores como\n",
    "#parametro no comando para plotagem do gráfico de barras.\n",
    "\n",
    "Gols22 = Diferencas22.index.tolist()\n",
    "\n",
    "#Conversão das colunas de valores dos DataFrames em listas, pelo mesmo motivo do passo anterior.\n",
    "Qtde_Partidas22 = Diferencas22['partida_id'].tolist()\n",
    "\n"
   ]
  },
  {
   "cell_type": "code",
   "execution_count": 21,
   "id": "ba2ae0bc",
   "metadata": {},
   "outputs": [
    {
     "data": {
      "text/plain": [
       "[171, 108, 58, 29, 12, 1, 1]"
      ]
     },
     "execution_count": 21,
     "metadata": {},
     "output_type": "execute_result"
    }
   ],
   "source": [
    "Qtde_Partidas22"
   ]
  },
  {
   "cell_type": "code",
   "execution_count": 22,
   "id": "379d4257",
   "metadata": {},
   "outputs": [
    {
     "data": {
      "image/png": "[encoded data removed]",
      "text/plain": [
       "<Figure size 1080x432 with 1 Axes>"
      ]
     },
     "metadata": {
      "needs_background": "light"
     },
     "output_type": "display_data"
    }
   ],
   "source": [
    "#Passos para construção do gráfico\n",
    "\n",
    "#Esta função é usada para criar a figura onde será plotado o gráfico\n",
    "plt.figure(figsize=(15, 6))\n",
    "\n",
    "#Função para criação do gráfico de barras dos valores levantados anteriormente.\n",
    "#Visto que a ideia é destacar a quantidade de partida com diferenças de um gol, executei os comandos para plotar separadamente \n",
    "#a barra referente a essas partida com o objetivo de configurar separadamentea cor desta barra.\n",
    "\n",
    "plt.bar(Gols22[0],Qtde_Partidas22[0], color='c')\n",
    "plt.bar(Gols22[1:6],Qtde_Partidas22[1:6], color='b')\n",
    "\n",
    "\n",
    "plt.xlabel(\"Diferença de Gols\")\n",
    "plt.ylabel(\"Quantidade de Partidas\")\n",
    "plt.title(\"Campeonato Brasileiro 2022\")\n",
    "\n",
    "\n",
    "plt.show()"
   ]
  },
  {
   "cell_type": "code",
   "execution_count": 15,
   "id": "47f432d3",
   "metadata": {},
   "outputs": [
    {
     "data": {
      "text/plain": [
       "0.45"
      ]
     },
     "execution_count": 15,
     "metadata": {},
     "output_type": "execute_result"
    }
   ],
   "source": [
    "#Calculo da proporção amostral de partidas vencidas por um gol de diferenca.\n",
    "\n",
    "total_jgs = len(partidas22.index)\n",
    "vit_1gol = len(partidas22['partida_id'].loc[(partidas22.dif_gols==1)])\n",
    "\n",
    "pr = vit_1gol/total_jgs\n",
    "pr"
   ]
  },
  {
   "cell_type": "code",
   "execution_count": 16,
   "id": "774d738f",
   "metadata": {},
   "outputs": [
    {
     "data": {
      "text/plain": [
       "(0.384262545548444, 0.515737454451556)"
      ]
     },
     "execution_count": 16,
     "metadata": {},
     "output_type": "execute_result"
    }
   ],
   "source": [
    "#Intervalo de proporcao de jogos vencidos por diferenca de 1 gol\n",
    "\n",
    "sm.stats.proportion_confint(total_jgs * pr, total_jgs, alpha = 0.01)"
   ]
  }
 ],
 "metadata": {
  "kernelspec": {
   "display_name": "Python 3",
   "language": "python",
   "name": "python3"
  },
  "language_info": {
   "codemirror_mode": {
    "name": "ipython",
    "version": 3
   },
   "file_extension": ".py",
   "mimetype": "text/x-python",
   "name": "python",
   "nbconvert_exporter": "python",
   "pygments_lexer": "ipython3",
   "version": "3.8.8"
  }
 },
 "nbformat": 4,
 "nbformat_minor": 5
}
